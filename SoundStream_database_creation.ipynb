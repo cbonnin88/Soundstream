{
  "nbformat": 4,
  "nbformat_minor": 0,
  "metadata": {
    "colab": {
      "provenance": [],
      "authorship_tag": "ABX9TyOz4jDsb+wFVnZ9eSr3Pz+g",
      "include_colab_link": true
    },
    "kernelspec": {
      "name": "python3",
      "display_name": "Python 3"
    },
    "language_info": {
      "name": "python"
    }
  },
  "cells": [
    {
      "cell_type": "markdown",
      "metadata": {
        "id": "view-in-github",
        "colab_type": "text"
      },
      "source": [
        "<a href=\"https://colab.research.google.com/github/cbonnin88/Soundstream_Project/blob/main/SoundStream_database_creation.ipynb\" target=\"_parent\"><img src=\"https://colab.research.google.com/assets/colab-badge.svg\" alt=\"Open In Colab\"/></a>"
      ]
    },
    {
      "cell_type": "code",
      "execution_count": null,
      "metadata": {
        "id": "nR_7IHzE1uTs"
      },
      "outputs": [],
      "source": [
        "import pandas as pd\n",
        "from datetime import datetime, timedelta\n",
        "import random\n",
        "import os"
      ]
    },
    {
      "cell_type": "code",
      "source": [
        "num_users = 1000\n",
        "num_actions = 10000\n",
        "start_date = datetime(2024, 6, 1)\n",
        "end_date = datetime(2024, 12, 31)"
      ],
      "metadata": {
        "id": "yVXmKR-W12FB"
      },
      "execution_count": null,
      "outputs": []
    },
    {
      "cell_type": "code",
      "source": [
        "def random_date(start,end):\n",
        "    delta = end - start\n",
        "    random_seconds = random.randint(0, int(delta.total_seconds()))\n",
        "    return start + timedelta(seconds=random_seconds)"
      ],
      "metadata": {
        "id": "HJZLtZkJ1_4J"
      },
      "execution_count": null,
      "outputs": []
    },
    {
      "cell_type": "code",
      "source": [
        "def random_action():\n",
        "    \"\"\"Return a random user action.\"\"\"\n",
        "    actions = [\"stream_song\", \"create_playlist\", \"like_song\", \"upgrade_premium\", \"logout\"]\n",
        "    return random.choice(actions)"
      ],
      "metadata": {
        "id": "WX_TwKja2FPv"
      },
      "execution_count": null,
      "outputs": []
    },
    {
      "cell_type": "code",
      "source": [
        "def random_device():\n",
        "    \"\"\"Return a random device.\"\"\"\n",
        "    devices = [\"mobile\", \"desktop\", \"tablet\"]\n",
        "    return random.choice(devices)"
      ],
      "metadata": {
        "id": "SzRTqLad2LUy"
      },
      "execution_count": null,
      "outputs": []
    },
    {
      "cell_type": "code",
      "source": [
        "def random_subscription():\n",
        "    \"\"\"Return a random subscription type.\"\"\"\n",
        "    subscriptions = [\"free\", \"premium\"]\n",
        "    return random.choice(subscriptions)"
      ],
      "metadata": {
        "id": "Q8NlyjEB2OOX"
      },
      "execution_count": null,
      "outputs": []
    },
    {
      "cell_type": "code",
      "source": [
        "users = [f\"user_{i+1}\" for i in range(num_users)]\n",
        "data = []\n",
        "\n",
        "for _ in range(num_actions):\n",
        "    user = random.choice(users)\n",
        "    signup_date = random_date(start_date - timedelta(days=30), start_date)  # Allow signup dates up to 30 days before start_date\n",
        "    action = random_action()\n",
        "    timestamp = random_date(start_date, end_date)\n",
        "    subscription_type = random_subscription()\n",
        "    device = random_device()\n",
        "\n",
        "\n",
        "    data.append({\n",
        "        \"user_id\": user,\n",
        "        \"signup_date\": signup_date.strftime(\"%Y-%m-%d\"),\n",
        "        \"action\": action,\n",
        "        \"timestamp\": timestamp.strftime(\"%Y-%m-%d %H:%M:%S\"),\n",
        "        \"subscription_type\": subscription_type,\n",
        "        \"device\": device\n",
        "    })\n"
      ],
      "metadata": {
        "id": "rYfn8RlJ2Uvy"
      },
      "execution_count": null,
      "outputs": []
    },
    {
      "cell_type": "code",
      "source": [
        "# Create a DataFrame\n",
        "df = pd.DataFrame(data)\n",
        "os.makedirs('/Users/chris/Desktop/SoundStreamFolder', exist_ok=True)\n",
        "\n",
        "# Save to CSV\n",
        "output_path = '/Users/chris/Desktop/SoundStreamFolder/Soundstream_user_data.csv'\n",
        "df.to_csv(output_path, index=False)\n",
        "output_path"
      ],
      "metadata": {
        "colab": {
          "base_uri": "https://localhost:8080/",
          "height": 36
        },
        "id": "avtWlUQC2WHG",
        "outputId": "19f55f4d-a56e-4d0a-cbd0-bc6ac58cc0ff"
      },
      "execution_count": null,
      "outputs": [
        {
          "output_type": "execute_result",
          "data": {
            "text/plain": [
              "'/Users/chris/Desktop/SoundStreamFolder/Soundstream_user_data.csv'"
            ],
            "application/vnd.google.colaboratory.intrinsic+json": {
              "type": "string"
            }
          },
          "metadata": {},
          "execution_count": 70
        }
      ]
    }
  ]
}