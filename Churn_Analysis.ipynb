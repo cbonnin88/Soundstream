{
  "nbformat": 4,
  "nbformat_minor": 0,
  "metadata": {
    "colab": {
      "provenance": [],
      "authorship_tag": "ABX9TyP3Uvijf+53srMWWsmQbYzU",
      "include_colab_link": true
    },
    "kernelspec": {
      "name": "python3",
      "display_name": "Python 3"
    },
    "language_info": {
      "name": "python"
    }
  },
  "cells": [
    {
      "cell_type": "markdown",
      "metadata": {
        "id": "view-in-github",
        "colab_type": "text"
      },
      "source": [
        "<a href=\"https://colab.research.google.com/github/cbonnin88/Soundstream/blob/main/Churn_Analysis.ipynb\" target=\"_parent\"><img src=\"https://colab.research.google.com/assets/colab-badge.svg\" alt=\"Open In Colab\"/></a>"
      ]
    },
    {
      "cell_type": "code",
      "execution_count": null,
      "metadata": {
        "id": "6ysanEP_mJ9r"
      },
      "outputs": [],
      "source": [
        "import pandas as pd\n",
        "import matplotlib.pyplot as plt\n",
        "import numpy as np\n",
        "import seaborn as sns\n",
        "import gdown as gd\n",
        "import plotly.graph_objects as go"
      ]
    },
    {
      "cell_type": "code",
      "source": [
        "url = \"https://drive.google.com/uc?id=1mT1mvIkEliFfRP4JPC7dTjrdy412zs1x\"\n",
        "gd.download(url,\"Soundstream_user_data.csv\",quiet=True)\n",
        "\n",
        "df_userdata = pd.read_csv('Soundstream_user_data.csv')\n",
        "df_userdata.head(10)"
      ],
      "metadata": {
        "colab": {
          "base_uri": "https://localhost:8080/",
          "height": 363
        },
        "id": "ZNogUZA3mUgW",
        "outputId": "a6a411af-dce0-4830-9730-d72f19334ed5"
      },
      "execution_count": null,
      "outputs": [
        {
          "output_type": "execute_result",
          "data": {
            "text/plain": [
              "    user_id signup_date           action            timestamp  \\\n",
              "0  user_635  2024-05-19  upgrade_premium   2024-12-11 9:44:07   \n",
              "1  user_343  2024-05-07        like_song  2024-10-26 21:53:35   \n",
              "2  user_185  2024-05-24        like_song  2024-11-17 22:32:06   \n",
              "3  user_613  2024-05-16           logout  2024-11-02 11:43:13   \n",
              "4  user_407  2024-05-20  create_playlist   2024-08-24 8:56:55   \n",
              "5  user_787  2024-05-25  create_playlist   2024-08-31 1:21:19   \n",
              "6  user_161  2024-05-28  upgrade_premium  2024-10-02 15:49:51   \n",
              "7   user_33  2024-05-22      stream_song  2024-09-17 21:22:07   \n",
              "8  user_878  2024-05-04        like_song  2024-11-13 15:40:41   \n",
              "9  user_209  2024-05-27      stream_song  2024-12-21 11:00:06   \n",
              "\n",
              "  subscription_type   device  monthly_revenue  \n",
              "0           premium   mobile               10  \n",
              "1              free   mobile                0  \n",
              "2           premium  desktop               10  \n",
              "3           premium   mobile               10  \n",
              "4           premium   mobile               10  \n",
              "5           premium   mobile               10  \n",
              "6           premium  desktop               10  \n",
              "7           premium  desktop               10  \n",
              "8              free   mobile                0  \n",
              "9              free  desktop                0  "
            ],
            "text/html": [
              "\n",
              "  <div id=\"df-9b1966cd-28c7-484d-93ed-ff617b8561c9\" class=\"colab-df-container\">\n",
              "    <div>\n",
              "<style scoped>\n",
              "    .dataframe tbody tr th:only-of-type {\n",
              "        vertical-align: middle;\n",
              "    }\n",
              "\n",
              "    .dataframe tbody tr th {\n",
              "        vertical-align: top;\n",
              "    }\n",
              "\n",
              "    .dataframe thead th {\n",
              "        text-align: right;\n",
              "    }\n",
              "</style>\n",
              "<table border=\"1\" class=\"dataframe\">\n",
              "  <thead>\n",
              "    <tr style=\"text-align: right;\">\n",
              "      <th></th>\n",
              "      <th>user_id</th>\n",
              "      <th>signup_date</th>\n",
              "      <th>action</th>\n",
              "      <th>timestamp</th>\n",
              "      <th>subscription_type</th>\n",
              "      <th>device</th>\n",
              "      <th>monthly_revenue</th>\n",
              "    </tr>\n",
              "  </thead>\n",
              "  <tbody>\n",
              "    <tr>\n",
              "      <th>0</th>\n",
              "      <td>user_635</td>\n",
              "      <td>2024-05-19</td>\n",
              "      <td>upgrade_premium</td>\n",
              "      <td>2024-12-11 9:44:07</td>\n",
              "      <td>premium</td>\n",
              "      <td>mobile</td>\n",
              "      <td>10</td>\n",
              "    </tr>\n",
              "    <tr>\n",
              "      <th>1</th>\n",
              "      <td>user_343</td>\n",
              "      <td>2024-05-07</td>\n",
              "      <td>like_song</td>\n",
              "      <td>2024-10-26 21:53:35</td>\n",
              "      <td>free</td>\n",
              "      <td>mobile</td>\n",
              "      <td>0</td>\n",
              "    </tr>\n",
              "    <tr>\n",
              "      <th>2</th>\n",
              "      <td>user_185</td>\n",
              "      <td>2024-05-24</td>\n",
              "      <td>like_song</td>\n",
              "      <td>2024-11-17 22:32:06</td>\n",
              "      <td>premium</td>\n",
              "      <td>desktop</td>\n",
              "      <td>10</td>\n",
              "    </tr>\n",
              "    <tr>\n",
              "      <th>3</th>\n",
              "      <td>user_613</td>\n",
              "      <td>2024-05-16</td>\n",
              "      <td>logout</td>\n",
              "      <td>2024-11-02 11:43:13</td>\n",
              "      <td>premium</td>\n",
              "      <td>mobile</td>\n",
              "      <td>10</td>\n",
              "    </tr>\n",
              "    <tr>\n",
              "      <th>4</th>\n",
              "      <td>user_407</td>\n",
              "      <td>2024-05-20</td>\n",
              "      <td>create_playlist</td>\n",
              "      <td>2024-08-24 8:56:55</td>\n",
              "      <td>premium</td>\n",
              "      <td>mobile</td>\n",
              "      <td>10</td>\n",
              "    </tr>\n",
              "    <tr>\n",
              "      <th>5</th>\n",
              "      <td>user_787</td>\n",
              "      <td>2024-05-25</td>\n",
              "      <td>create_playlist</td>\n",
              "      <td>2024-08-31 1:21:19</td>\n",
              "      <td>premium</td>\n",
              "      <td>mobile</td>\n",
              "      <td>10</td>\n",
              "    </tr>\n",
              "    <tr>\n",
              "      <th>6</th>\n",
              "      <td>user_161</td>\n",
              "      <td>2024-05-28</td>\n",
              "      <td>upgrade_premium</td>\n",
              "      <td>2024-10-02 15:49:51</td>\n",
              "      <td>premium</td>\n",
              "      <td>desktop</td>\n",
              "      <td>10</td>\n",
              "    </tr>\n",
              "    <tr>\n",
              "      <th>7</th>\n",
              "      <td>user_33</td>\n",
              "      <td>2024-05-22</td>\n",
              "      <td>stream_song</td>\n",
              "      <td>2024-09-17 21:22:07</td>\n",
              "      <td>premium</td>\n",
              "      <td>desktop</td>\n",
              "      <td>10</td>\n",
              "    </tr>\n",
              "    <tr>\n",
              "      <th>8</th>\n",
              "      <td>user_878</td>\n",
              "      <td>2024-05-04</td>\n",
              "      <td>like_song</td>\n",
              "      <td>2024-11-13 15:40:41</td>\n",
              "      <td>free</td>\n",
              "      <td>mobile</td>\n",
              "      <td>0</td>\n",
              "    </tr>\n",
              "    <tr>\n",
              "      <th>9</th>\n",
              "      <td>user_209</td>\n",
              "      <td>2024-05-27</td>\n",
              "      <td>stream_song</td>\n",
              "      <td>2024-12-21 11:00:06</td>\n",
              "      <td>free</td>\n",
              "      <td>desktop</td>\n",
              "      <td>0</td>\n",
              "    </tr>\n",
              "  </tbody>\n",
              "</table>\n",
              "</div>\n",
              "    <div class=\"colab-df-buttons\">\n",
              "\n",
              "  <div class=\"colab-df-container\">\n",
              "    <button class=\"colab-df-convert\" onclick=\"convertToInteractive('df-9b1966cd-28c7-484d-93ed-ff617b8561c9')\"\n",
              "            title=\"Convert this dataframe to an interactive table.\"\n",
              "            style=\"display:none;\">\n",
              "\n",
              "  <svg xmlns=\"http://www.w3.org/2000/svg\" height=\"24px\" viewBox=\"0 -960 960 960\">\n",
              "    <path d=\"M120-120v-720h720v720H120Zm60-500h600v-160H180v160Zm220 220h160v-160H400v160Zm0 220h160v-160H400v160ZM180-400h160v-160H180v160Zm440 0h160v-160H620v160ZM180-180h160v-160H180v160Zm440 0h160v-160H620v160Z\"/>\n",
              "  </svg>\n",
              "    </button>\n",
              "\n",
              "  <style>\n",
              "    .colab-df-container {\n",
              "      display:flex;\n",
              "      gap: 12px;\n",
              "    }\n",
              "\n",
              "    .colab-df-convert {\n",
              "      background-color: #E8F0FE;\n",
              "      border: none;\n",
              "      border-radius: 50%;\n",
              "      cursor: pointer;\n",
              "      display: none;\n",
              "      fill: #1967D2;\n",
              "      height: 32px;\n",
              "      padding: 0 0 0 0;\n",
              "      width: 32px;\n",
              "    }\n",
              "\n",
              "    .colab-df-convert:hover {\n",
              "      background-color: #E2EBFA;\n",
              "      box-shadow: 0px 1px 2px rgba(60, 64, 67, 0.3), 0px 1px 3px 1px rgba(60, 64, 67, 0.15);\n",
              "      fill: #174EA6;\n",
              "    }\n",
              "\n",
              "    .colab-df-buttons div {\n",
              "      margin-bottom: 4px;\n",
              "    }\n",
              "\n",
              "    [theme=dark] .colab-df-convert {\n",
              "      background-color: #3B4455;\n",
              "      fill: #D2E3FC;\n",
              "    }\n",
              "\n",
              "    [theme=dark] .colab-df-convert:hover {\n",
              "      background-color: #434B5C;\n",
              "      box-shadow: 0px 1px 3px 1px rgba(0, 0, 0, 0.15);\n",
              "      filter: drop-shadow(0px 1px 2px rgba(0, 0, 0, 0.3));\n",
              "      fill: #FFFFFF;\n",
              "    }\n",
              "  </style>\n",
              "\n",
              "    <script>\n",
              "      const buttonEl =\n",
              "        document.querySelector('#df-9b1966cd-28c7-484d-93ed-ff617b8561c9 button.colab-df-convert');\n",
              "      buttonEl.style.display =\n",
              "        google.colab.kernel.accessAllowed ? 'block' : 'none';\n",
              "\n",
              "      async function convertToInteractive(key) {\n",
              "        const element = document.querySelector('#df-9b1966cd-28c7-484d-93ed-ff617b8561c9');\n",
              "        const dataTable =\n",
              "          await google.colab.kernel.invokeFunction('convertToInteractive',\n",
              "                                                    [key], {});\n",
              "        if (!dataTable) return;\n",
              "\n",
              "        const docLinkHtml = 'Like what you see? Visit the ' +\n",
              "          '<a target=\"_blank\" href=https://colab.research.google.com/notebooks/data_table.ipynb>data table notebook</a>'\n",
              "          + ' to learn more about interactive tables.';\n",
              "        element.innerHTML = '';\n",
              "        dataTable['output_type'] = 'display_data';\n",
              "        await google.colab.output.renderOutput(dataTable, element);\n",
              "        const docLink = document.createElement('div');\n",
              "        docLink.innerHTML = docLinkHtml;\n",
              "        element.appendChild(docLink);\n",
              "      }\n",
              "    </script>\n",
              "  </div>\n",
              "\n",
              "\n",
              "    <div id=\"df-5872d1c7-734a-422b-bd4b-6618a2095e6b\">\n",
              "      <button class=\"colab-df-quickchart\" onclick=\"quickchart('df-5872d1c7-734a-422b-bd4b-6618a2095e6b')\"\n",
              "                title=\"Suggest charts\"\n",
              "                style=\"display:none;\">\n",
              "\n",
              "<svg xmlns=\"http://www.w3.org/2000/svg\" height=\"24px\"viewBox=\"0 0 24 24\"\n",
              "     width=\"24px\">\n",
              "    <g>\n",
              "        <path d=\"M19 3H5c-1.1 0-2 .9-2 2v14c0 1.1.9 2 2 2h14c1.1 0 2-.9 2-2V5c0-1.1-.9-2-2-2zM9 17H7v-7h2v7zm4 0h-2V7h2v10zm4 0h-2v-4h2v4z\"/>\n",
              "    </g>\n",
              "</svg>\n",
              "      </button>\n",
              "\n",
              "<style>\n",
              "  .colab-df-quickchart {\n",
              "      --bg-color: #E8F0FE;\n",
              "      --fill-color: #1967D2;\n",
              "      --hover-bg-color: #E2EBFA;\n",
              "      --hover-fill-color: #174EA6;\n",
              "      --disabled-fill-color: #AAA;\n",
              "      --disabled-bg-color: #DDD;\n",
              "  }\n",
              "\n",
              "  [theme=dark] .colab-df-quickchart {\n",
              "      --bg-color: #3B4455;\n",
              "      --fill-color: #D2E3FC;\n",
              "      --hover-bg-color: #434B5C;\n",
              "      --hover-fill-color: #FFFFFF;\n",
              "      --disabled-bg-color: #3B4455;\n",
              "      --disabled-fill-color: #666;\n",
              "  }\n",
              "\n",
              "  .colab-df-quickchart {\n",
              "    background-color: var(--bg-color);\n",
              "    border: none;\n",
              "    border-radius: 50%;\n",
              "    cursor: pointer;\n",
              "    display: none;\n",
              "    fill: var(--fill-color);\n",
              "    height: 32px;\n",
              "    padding: 0;\n",
              "    width: 32px;\n",
              "  }\n",
              "\n",
              "  .colab-df-quickchart:hover {\n",
              "    background-color: var(--hover-bg-color);\n",
              "    box-shadow: 0 1px 2px rgba(60, 64, 67, 0.3), 0 1px 3px 1px rgba(60, 64, 67, 0.15);\n",
              "    fill: var(--button-hover-fill-color);\n",
              "  }\n",
              "\n",
              "  .colab-df-quickchart-complete:disabled,\n",
              "  .colab-df-quickchart-complete:disabled:hover {\n",
              "    background-color: var(--disabled-bg-color);\n",
              "    fill: var(--disabled-fill-color);\n",
              "    box-shadow: none;\n",
              "  }\n",
              "\n",
              "  .colab-df-spinner {\n",
              "    border: 2px solid var(--fill-color);\n",
              "    border-color: transparent;\n",
              "    border-bottom-color: var(--fill-color);\n",
              "    animation:\n",
              "      spin 1s steps(1) infinite;\n",
              "  }\n",
              "\n",
              "  @keyframes spin {\n",
              "    0% {\n",
              "      border-color: transparent;\n",
              "      border-bottom-color: var(--fill-color);\n",
              "      border-left-color: var(--fill-color);\n",
              "    }\n",
              "    20% {\n",
              "      border-color: transparent;\n",
              "      border-left-color: var(--fill-color);\n",
              "      border-top-color: var(--fill-color);\n",
              "    }\n",
              "    30% {\n",
              "      border-color: transparent;\n",
              "      border-left-color: var(--fill-color);\n",
              "      border-top-color: var(--fill-color);\n",
              "      border-right-color: var(--fill-color);\n",
              "    }\n",
              "    40% {\n",
              "      border-color: transparent;\n",
              "      border-right-color: var(--fill-color);\n",
              "      border-top-color: var(--fill-color);\n",
              "    }\n",
              "    60% {\n",
              "      border-color: transparent;\n",
              "      border-right-color: var(--fill-color);\n",
              "    }\n",
              "    80% {\n",
              "      border-color: transparent;\n",
              "      border-right-color: var(--fill-color);\n",
              "      border-bottom-color: var(--fill-color);\n",
              "    }\n",
              "    90% {\n",
              "      border-color: transparent;\n",
              "      border-bottom-color: var(--fill-color);\n",
              "    }\n",
              "  }\n",
              "</style>\n",
              "\n",
              "      <script>\n",
              "        async function quickchart(key) {\n",
              "          const quickchartButtonEl =\n",
              "            document.querySelector('#' + key + ' button');\n",
              "          quickchartButtonEl.disabled = true;  // To prevent multiple clicks.\n",
              "          quickchartButtonEl.classList.add('colab-df-spinner');\n",
              "          try {\n",
              "            const charts = await google.colab.kernel.invokeFunction(\n",
              "                'suggestCharts', [key], {});\n",
              "          } catch (error) {\n",
              "            console.error('Error during call to suggestCharts:', error);\n",
              "          }\n",
              "          quickchartButtonEl.classList.remove('colab-df-spinner');\n",
              "          quickchartButtonEl.classList.add('colab-df-quickchart-complete');\n",
              "        }\n",
              "        (() => {\n",
              "          let quickchartButtonEl =\n",
              "            document.querySelector('#df-5872d1c7-734a-422b-bd4b-6618a2095e6b button');\n",
              "          quickchartButtonEl.style.display =\n",
              "            google.colab.kernel.accessAllowed ? 'block' : 'none';\n",
              "        })();\n",
              "      </script>\n",
              "    </div>\n",
              "\n",
              "    </div>\n",
              "  </div>\n"
            ],
            "application/vnd.google.colaboratory.intrinsic+json": {
              "type": "dataframe",
              "variable_name": "df_userdata",
              "summary": "{\n  \"name\": \"df_userdata\",\n  \"rows\": 10000,\n  \"fields\": [\n    {\n      \"column\": \"user_id\",\n      \"properties\": {\n        \"dtype\": \"category\",\n        \"num_unique_values\": 1000,\n        \"samples\": [\n          \"user_681\",\n          \"user_908\",\n          \"user_298\"\n        ],\n        \"semantic_type\": \"\",\n        \"description\": \"\"\n      }\n    },\n    {\n      \"column\": \"signup_date\",\n      \"properties\": {\n        \"dtype\": \"object\",\n        \"num_unique_values\": 30,\n        \"samples\": [\n          \"2024-05-14\",\n          \"2024-05-18\",\n          \"2024-05-11\"\n        ],\n        \"semantic_type\": \"\",\n        \"description\": \"\"\n      }\n    },\n    {\n      \"column\": \"action\",\n      \"properties\": {\n        \"dtype\": \"category\",\n        \"num_unique_values\": 5,\n        \"samples\": [\n          \"like_song\",\n          \"stream_song\",\n          \"logout\"\n        ],\n        \"semantic_type\": \"\",\n        \"description\": \"\"\n      }\n    },\n    {\n      \"column\": \"timestamp\",\n      \"properties\": {\n        \"dtype\": \"object\",\n        \"num_unique_values\": 9996,\n        \"samples\": [\n          \"2024-12-16 23:18:10\",\n          \"2024-10-19 23:20:34\",\n          \"2024-09-25 3:24:54\"\n        ],\n        \"semantic_type\": \"\",\n        \"description\": \"\"\n      }\n    },\n    {\n      \"column\": \"subscription_type\",\n      \"properties\": {\n        \"dtype\": \"category\",\n        \"num_unique_values\": 2,\n        \"samples\": [\n          \"free\",\n          \"premium\"\n        ],\n        \"semantic_type\": \"\",\n        \"description\": \"\"\n      }\n    },\n    {\n      \"column\": \"device\",\n      \"properties\": {\n        \"dtype\": \"category\",\n        \"num_unique_values\": 3,\n        \"samples\": [\n          \"mobile\",\n          \"desktop\"\n        ],\n        \"semantic_type\": \"\",\n        \"description\": \"\"\n      }\n    },\n    {\n      \"column\": \"monthly_revenue\",\n      \"properties\": {\n        \"dtype\": \"number\",\n        \"std\": 5,\n        \"min\": 0,\n        \"max\": 10,\n        \"num_unique_values\": 2,\n        \"samples\": [\n          0,\n          10\n        ],\n        \"semantic_type\": \"\",\n        \"description\": \"\"\n      }\n    }\n  ]\n}"
            }
          },
          "metadata": {},
          "execution_count": 2
        }
      ]
    },
    {
      "cell_type": "markdown",
      "source": [
        "# **Identify churned users who have been inactive for 30+ days**"
      ],
      "metadata": {
        "id": "AkSEq_qUmgl1"
      }
    },
    {
      "cell_type": "code",
      "source": [
        "# Last Activity Date\n",
        "df_userdata['timestamp'] = pd.to_datetime(df_userdata['timestamp'])\n",
        "\n",
        "last_activity = df_userdata.groupby('user_id')['timestamp'].max().reset_index()\n",
        "last_activity['days_inactive']= (pd.Timestamp('2025-01-01') - last_activity['timestamp']).dt.days"
      ],
      "metadata": {
        "id": "ZoiHnT-OmmoB"
      },
      "execution_count": null,
      "outputs": []
    },
    {
      "cell_type": "code",
      "source": [
        "churned_users = last_activity[last_activity['days_inactive']> 30]\n",
        "print(\"Churned Users:\")\n",
        "print(churned_users)"
      ],
      "metadata": {
        "colab": {
          "base_uri": "https://localhost:8080/"
        },
        "id": "yN5jATT7m3wH",
        "outputId": "054288b4-b8f3-4c66-a06b-5c24e6743bba"
      },
      "execution_count": null,
      "outputs": [
        {
          "output_type": "stream",
          "name": "stdout",
          "text": [
            "Churned Users:\n",
            "       user_id           timestamp  days_inactive\n",
            "2     user_100 2024-11-05 16:48:44             56\n",
            "3    user_1000 2024-11-28 18:45:04             33\n",
            "8     user_105 2024-09-18 08:37:01            104\n",
            "12    user_109 2024-11-14 20:49:15             47\n",
            "18    user_114 2024-11-20 20:11:08             41\n",
            "..         ...                 ...            ...\n",
            "968   user_970 2024-11-24 03:51:50             37\n",
            "986   user_987 2024-11-05 14:55:10             56\n",
            "992   user_992 2024-10-21 18:34:31             71\n",
            "994   user_994 2024-11-27 16:14:21             34\n",
            "998   user_998 2024-10-15 07:49:44             77\n",
            "\n",
            "[239 rows x 3 columns]\n"
          ]
        }
      ]
    },
    {
      "cell_type": "markdown",
      "source": [
        "# **Active vs Churned Users - Bar Plot**"
      ],
      "metadata": {
        "id": "6zWp2xWqm5gg"
      }
    },
    {
      "cell_type": "code",
      "source": [
        "# Adding a 'churned' column to categorize users\n",
        "last_activity['status']=last_activity['days_inactive'].apply(lambda x:'Churned' if x > 30 else 'Active')\n",
        "print(last_activity['status'].value_counts())"
      ],
      "metadata": {
        "colab": {
          "base_uri": "https://localhost:8080/"
        },
        "id": "k7phsLium98v",
        "outputId": "96d014cb-1db7-40a3-c820-2f927daa4f41"
      },
      "execution_count": null,
      "outputs": [
        {
          "output_type": "stream",
          "name": "stdout",
          "text": [
            "status\n",
            "Active     761\n",
            "Churned    239\n",
            "Name: count, dtype: int64\n"
          ]
        }
      ]
    },
    {
      "cell_type": "code",
      "source": [
        "# Counting users by status\n",
        "status_counts = last_activity['status'].value_counts().reset_index()\n",
        "status_counts.columns=['Status', 'Count']\n",
        "\n",
        "print(status_counts)"
      ],
      "metadata": {
        "colab": {
          "base_uri": "https://localhost:8080/"
        },
        "id": "a5YMa78tnCdF",
        "outputId": "841a67d2-1f63-401e-f77b-fcf0bc5b68a3"
      },
      "execution_count": null,
      "outputs": [
        {
          "output_type": "stream",
          "name": "stdout",
          "text": [
            "    Status  Count\n",
            "0   Active    761\n",
            "1  Churned    239\n"
          ]
        }
      ]
    },
    {
      "cell_type": "code",
      "source": [
        "sns.set_theme(style=\"whitegrid\")\n",
        "plt.figure(figsize=(8,6))\n",
        "\n",
        "custom_palette = ['#A3E4D7', '#F5B7B1']\n",
        "\n",
        "sns.barplot(\n",
        "    data=status_counts,\n",
        "    x='Status',\n",
        "    y='Count',\n",
        "    hue='Status',\n",
        "    palette=custom_palette\n",
        ")\n",
        "\n",
        "plt.title('Active vs Churned Users', fontsize=16)\n",
        "plt.xlabel('User Status', fontsize=12)\n",
        "plt.ylabel('User Count', fontsize=12)\n",
        "plt.tight_layout()\n",
        "\n",
        "plt.show()"
      ],
      "metadata": {
        "colab": {
          "base_uri": "https://localhost:8080/",
          "height": 601
        },
        "id": "cElXgXXnnFe7",
        "outputId": "98b042f9-7a85-429f-9063-49ad8b9217e9"
      },
      "execution_count": null,
      "outputs": [
        {
          "output_type": "display_data",
          "data": {
            "text/plain": [
              "<Figure size 800x600 with 1 Axes>"
            ],
            "image/png": "[encoded data removed]"
          },
          "metadata": {}
        }
      ]
    },
    {
      "cell_type": "markdown",
      "source": [
        "# **Inactive Days**"
      ],
      "metadata": {
        "id": "3Uj8PNKgnHzp"
      }
    },
    {
      "cell_type": "code",
      "source": [
        "plt.figure(figsize=(10,6))\n",
        "\n",
        "sns.histplot(last_activity['days_inactive'],\n",
        "           bins=30,\n",
        "           kde=True,\n",
        "           color='green'\n",
        "             )\n",
        "\n",
        "\n",
        "plt.title('Distribution of Days Inactive', fontsize=16)\n",
        "plt.xlabel('Days Inactive', fontsize=12)\n",
        "plt.ylabel('Frequency', fontsize=12)\n",
        "plt.tight_layout()\n",
        "\n",
        "plt.show()"
      ],
      "metadata": {
        "colab": {
          "base_uri": "https://localhost:8080/",
          "height": 601
        },
        "id": "a_E8pw9PnKjQ",
        "outputId": "261fbbad-1398-4a5b-d84a-b96ba1854303"
      },
      "execution_count": null,
      "outputs": [
        {
          "output_type": "display_data",
          "data": {
            "text/plain": [
              "<Figure size 1000x600 with 1 Axes>"
            ],
            "image/png": "[encoded data removed]"
          },
          "metadata": {}
        }
      ]
    },
    {
      "cell_type": "markdown",
      "source": [
        "# **Churn by Subscription Type**"
      ],
      "metadata": {
        "id": "OVL2qVL8nOZH"
      }
    },
    {
      "cell_type": "code",
      "source": [
        "# Merge with subscription type data\n",
        "merged_data = pd.merge(last_activity,df_userdata[['user_id','subscription_type']].drop_duplicates(), on='user_id')"
      ],
      "metadata": {
        "id": "KH-jyBxJnTZB"
      },
      "execution_count": null,
      "outputs": []
    },
    {
      "cell_type": "code",
      "source": [
        "# Count by subscription type and status\n",
        "status_subscription = merged_data.groupby(['subscription_type','status']).size().reset_index(name='count')"
      ],
      "metadata": {
        "id": "P3uT8YafnXZO"
      },
      "execution_count": null,
      "outputs": []
    },
    {
      "cell_type": "code",
      "source": [
        "# Pivot for stacked bar plot\n",
        "status_subscription_pivot = status_subscription.pivot(index='subscription_type',columns='status', values='count')"
      ],
      "metadata": {
        "id": "MpmnDMWFnZyd"
      },
      "execution_count": null,
      "outputs": []
    },
    {
      "cell_type": "code",
      "source": [
        "status_subscription_pivot.plot(\n",
        "    kind='bar',\n",
        "    stacked=True,\n",
        "    figsize=(10,6),\n",
        "    color=['#A3E4D7', '#F5B7B1']\n",
        ")\n",
        "\n",
        "plt.title('Active vs Churned Users by Subscription Type', fontsize=16)\n",
        "plt.xlabel('Subscription Type', fontsize=12)\n",
        "plt.ylabel('User Count', fontsize=12)\n",
        "plt.legend(title='User Status', loc='upper right', bbox_to_anchor=(1.2,1))\n",
        "plt.xticks(rotation=0, ha='right')\n",
        "plt.tight_layout()\n",
        "\n",
        "plt.show()"
      ],
      "metadata": {
        "id": "EnvkMmX9nc10",
        "outputId": "b9f873a8-9f61-4f4d-f680-fae5888d28b6",
        "colab": {
          "base_uri": "https://localhost:8080/",
          "height": 601
        }
      },
      "execution_count": null,
      "outputs": [
        {
          "output_type": "display_data",
          "data": {
            "text/plain": [
              "<Figure size 1000x600 with 1 Axes>"
            ],
            "image/png": "[encoded data removed]"
          },
          "metadata": {}
        }
      ]
    }
  ]
}