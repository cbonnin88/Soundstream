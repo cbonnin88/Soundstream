{
  "nbformat": 4,
  "nbformat_minor": 0,
  "metadata": {
    "colab": {
      "provenance": [],
      "authorship_tag": "ABX9TyOlQHRf4qmJDtG5lnhlsC8+",
      "include_colab_link": true
    },
    "kernelspec": {
      "name": "python3",
      "display_name": "Python 3"
    },
    "language_info": {
      "name": "python"
    }
  },
  "cells": [
    {
      "cell_type": "markdown",
      "metadata": {
        "id": "view-in-github",
        "colab_type": "text"
      },
      "source": [
        "<a href=\"https://colab.research.google.com/github/cbonnin88/Soundstream_Project/blob/main/Soundstream_recommendations.ipynb\" target=\"_parent\"><img src=\"https://colab.research.google.com/assets/colab-badge.svg\" alt=\"Open In Colab\"/></a>"
      ]
    },
    {
      "cell_type": "code",
      "execution_count": 1,
      "metadata": {
        "id": "eGww3BvrC2tn"
      },
      "outputs": [],
      "source": [
        "import pandas as pd\n",
        "from sklearn.metrics.pairwise import cosine_similarity"
      ]
    },
    {
      "cell_type": "code",
      "source": [
        "music_data = {\n",
        "    'user_id': [635,343,185,613,102,340,858,527,186,664],\n",
        "    'music_category': [\"Pop\",\"R&B\",\"Hip-Hop\",\"Blues\",\"Rock\",\"Country\",\"Jazz\",\"Folk\",\"World Music\",\"Classical\"],\n",
        "    'rating': [10,9,8,8,5,3,1,2,7,4]\n",
        "}\n",
        "\n",
        "df_soundstream = pd.DataFrame(music_data)"
      ],
      "metadata": {
        "id": "NMMZoYAlDUo9"
      },
      "execution_count": 2,
      "outputs": []
    },
    {
      "cell_type": "code",
      "source": [
        "# Creating a user product matrix\n",
        "user_product_matrix = df_soundstream.pivot(index=\"user_id\",columns=\"music_category\",values='rating').fillna(0)"
      ],
      "metadata": {
        "id": "o0BQ3gIRAZl_"
      },
      "execution_count": 3,
      "outputs": []
    },
    {
      "cell_type": "code",
      "source": [
        "# Compute the item-item similarity matrix using cosine similarity\n",
        "item_similarity = cosine_similarity(user_product_matrix.T)"
      ],
      "metadata": {
        "id": "iTmDrjEUAyZp"
      },
      "execution_count": 4,
      "outputs": []
    },
    {
      "cell_type": "code",
      "source": [
        "# Function to make product recommendations\n",
        "def get_music_recommendations(user_id,num_recommendations=5):\n",
        "  music_index = df_soundstream['user_id'].unique().tolist().index(user_id)\n",
        "  music_score = item_similarity[music_index]\n",
        "  recommendation_indices = music_score.argsort()[::-1]\n",
        "\n",
        "  # Exclude the input user itself from recommendations\n",
        "  recommended_music = [df_soundstream['music_category'].unique()[i] for i in recommendation_indices if i != music_index]\n",
        "  return recommended_music[:num_recommendations]\n"
      ],
      "metadata": {
        "id": "dNzcNCQFBCz3"
      },
      "execution_count": 13,
      "outputs": []
    },
    {
      "cell_type": "code",
      "source": [
        "# Getting the recommendations for a specific category of music\n",
        "user_id = 340\n",
        "recommendations = get_music_recommendations(user_id)"
      ],
      "metadata": {
        "id": "6Nwxmts2DA_5"
      },
      "execution_count": 14,
      "outputs": []
    },
    {
      "cell_type": "code",
      "source": [
        "# Printing the recommendation\n",
        "print(f\"Top 5 recommendation for user_{user_id}: \")\n",
        "for i, music in enumerate(recommendations, start=1):\n",
        "  print(f\"Recommendation {i}: {music}\")"
      ],
      "metadata": {
        "colab": {
          "base_uri": "https://localhost:8080/"
        },
        "id": "DJlta1aBDUyQ",
        "outputId": "09e218f7-23ca-4e3e-834b-1fadb22c8d78"
      },
      "execution_count": 17,
      "outputs": [
        {
          "output_type": "stream",
          "name": "stdout",
          "text": [
            "Top 5 recommendation for user_340: \n",
            "Recommendation 1: Classical\n",
            "Recommendation 2: World Music\n",
            "Recommendation 3: Folk\n",
            "Recommendation 4: Jazz\n",
            "Recommendation 5: Rock\n"
          ]
        }
      ]
    }
  ]
}