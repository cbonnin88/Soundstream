{
  "nbformat": 4,
  "nbformat_minor": 0,
  "metadata": {
    "colab": {
      "provenance": [],
      "authorship_tag": "ABX9TyNAM7Okh/egKrZ3v05Oh5Bz",
      "include_colab_link": true
    },
    "kernelspec": {
      "name": "python3",
      "display_name": "Python 3"
    },
    "language_info": {
      "name": "python"
    }
  },
  "cells": [
    {
      "cell_type": "markdown",
      "metadata": {
        "id": "view-in-github",
        "colab_type": "text"
      },
      "source": [
        "<a href=\"https://colab.research.google.com/github/cbonnin88/Soundstream_Project/blob/main/Soundstream_app.ipynb\" target=\"_parent\"><img src=\"https://colab.research.google.com/assets/colab-badge.svg\" alt=\"Open In Colab\"/></a>"
      ]
    },
    {
      "cell_type": "code",
      "execution_count": 3,
      "metadata": {
        "id": "YLJ7HtctDY7y"
      },
      "outputs": [],
      "source": [
        "class SoundstreamApp:\n",
        "  def __init__(self) -> None:\n",
        "    self.playlist = []\n",
        "    self.current_song = None\n",
        "\n",
        "  def create_playlist(self, playlist_name):\n",
        "    self.playlist.append(playlist_name)\n",
        "    print(f\"Playlist '{playlist_name}' created\")\n",
        "\n",
        "\n",
        "  def add_song_to_playlist(self, playlist_name, song):\n",
        "    if playlist_name in self.playlist:\n",
        "      print(f\"Added '{song}' to playlist '{playlist_name}' .\")\n",
        "    else:\n",
        "      print(f\"Playlist '{playlist_name}' not found !\")\n",
        "\n",
        "  def play_song(self, song):\n",
        "    self.current_song = song\n",
        "    print(f\"Now playing: {song}\")\n",
        "\n",
        "  def show_current_song(self):\n",
        "    if self.current_song:\n",
        "      print(f\"Currently playing: {self.current_song}\")\n",
        "    else:\n",
        "      print(\"No song is currently playing\")\n"
      ]
    },
    {
      "cell_type": "code",
      "source": [
        "# Lets try it out\n",
        "sound_stream = SoundstreamApp()\n",
        "\n",
        "while True:\n",
        "  print(\"\\nList of commands: create playlist, add song, play song, current song, exit\")\n",
        "  command = input(\"Enter a command: \")\n",
        "\n",
        "  if command == \"create playlist\":\n",
        "    playlist_name = input(\"Enter playlist name: \")\n",
        "    sound_stream.create_playlist(playlist_name)\n",
        "\n",
        "  elif command == 'add song':\n",
        "    playlist_name = input(\"Enter playlist name: \")\n",
        "    song = input(\"Enter song name: \")\n",
        "    sound_stream.add_song_to_playlist(playlist_name, song)\n",
        "\n",
        "  elif command == \"play song\":\n",
        "    song = input(\"Enter song name: \")\n",
        "    sound_stream.play_song(song)\n",
        "\n",
        "  elif command == \"current song\":\n",
        "    sound_stream.show_current_song()\n",
        "\n",
        "  elif command == \"exit\":\n",
        "    print(\"Exiting Soundstream, Hope to see you soon\")\n",
        "    break\n",
        "\n",
        "  else:\n",
        "    print(\"Invalid command. Please try again\")"
      ],
      "metadata": {
        "colab": {
          "base_uri": "https://localhost:8080/"
        },
        "id": "Q7fwsQVAFnUK",
        "outputId": "1bc1fda8-26ef-4910-df7f-7f53ec1c4855"
      },
      "execution_count": 6,
      "outputs": [
        {
          "output_type": "stream",
          "name": "stdout",
          "text": [
            "\n",
            "List of commands: create playlist, add song, play song, current song, exit\n",
            "Enter a command: create playlist\n",
            "Enter playlist name: My work tunes\n",
            "Playlist 'My work tunes' created\n",
            "\n",
            "List of commands: create playlist, add song, play song, current song, exit\n",
            "Enter a command: add song\n",
            "Enter playlist name: My work tunes\n",
            "Enter song name: How bad do you want me\n",
            "Added 'How bad do you want me' to playlist 'My work tunes' .\n",
            "\n",
            "List of commands: create playlist, add song, play song, current song, exit\n",
            "Enter a command: play song\n",
            "Enter song name: How bad do you want me\n",
            "Now playing: How bad do you want me\n",
            "\n",
            "List of commands: create playlist, add song, play song, current song, exit\n",
            "Enter a command: current song\n",
            "Currently playing: How bad do you want me\n",
            "\n",
            "List of commands: create playlist, add song, play song, current song, exit\n",
            "Enter a command: exit\n",
            "Exiting Soundstream, Hope to see you soon\n"
          ]
        }
      ]
    }
  ]
}